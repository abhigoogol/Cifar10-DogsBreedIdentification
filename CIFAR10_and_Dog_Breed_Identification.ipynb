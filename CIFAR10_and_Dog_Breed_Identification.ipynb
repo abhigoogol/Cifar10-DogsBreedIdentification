{
  "nbformat": 4,
  "nbformat_minor": 0,
  "metadata": {
    "colab": {
      "name": "CIFAR10 and Dog Breed Identification.ipynb",
      "version": "0.3.2",
      "provenance": [],
      "collapsed_sections": [],
      "include_colab_link": true
    },
    "kernelspec": {
      "name": "python3",
      "display_name": "Python 3"
    },
    "accelerator": "GPU"
  },
  "cells": [
    {
      "cell_type": "markdown",
      "metadata": {
        "id": "view-in-github",
        "colab_type": "text"
      },
      "source": [
        "[View in Colaboratory](https://colab.research.google.com/github/abhigoogol/Cifar10-DogsBreedIdentification/blob/master/CIFAR10_and_Dog_Breed_Identification.ipynb)"
      ]
    },
    {
      "metadata": {
        "id": "wr6StYO5NWzB",
        "colab_type": "text"
      },
      "cell_type": "markdown",
      "source": [
        "# Pre-installation"
      ]
    },
    {
      "metadata": {
        "id": "thEf4l5AvOD4",
        "colab_type": "code",
        "colab": {},
        "cellView": "code"
      },
      "cell_type": "code",
      "source": [
        "!pip install fastai\n",
        "!pip install opencv-python\n",
        "!apt update && apt install -y libsm6 libxext6\n",
        "!pip3 install http://download.pytorch.org/whl/cu80/torch-0.3.0.post4-cp36-cp36m-linux_x86_64.whl \n",
        "!pip3 install torchvision"
      ],
      "execution_count": 0,
      "outputs": []
    },
    {
      "metadata": {
        "id": "lpxgaCVPDMRd",
        "colab_type": "code",
        "colab": {}
      },
      "cell_type": "code",
      "source": [
        "!pip install kaggle\n",
        "\n",
        "#upload Kaggle Credentials\n",
        "from google.colab import files\n",
        "files.upload()\n",
        "\n",
        "!mkdir -p ~/.kaggle\n",
        "\n",
        "!cp /content/kaggle.json ~/.kaggle/\n",
        "!chmod 600 ~/.kaggle/kaggle.json\n",
        "\n",
        "!kaggle config set -n path -v /content \n",
        "!kaggle config view"
      ],
      "execution_count": 0,
      "outputs": []
    },
    {
      "metadata": {
        "id": "b0FZWSe9Nmh7",
        "colab_type": "text"
      },
      "cell_type": "markdown",
      "source": [
        "# Dogs Breeds Identification"
      ]
    },
    {
      "metadata": {
        "id": "mqYoxjXWE0KI",
        "colab_type": "code",
        "colab": {}
      },
      "cell_type": "code",
      "source": [
        "!kaggle competitions download -c dog-breed-identification"
      ],
      "execution_count": 0,
      "outputs": []
    },
    {
      "metadata": {
        "id": "YIPdrv8rGmhr",
        "colab_type": "code",
        "colab": {
          "base_uri": "https://localhost:8080/",
          "height": 67
        },
        "outputId": "5dd24758-cfef-4c6b-8809-be42f5bb7dd9"
      },
      "cell_type": "code",
      "source": [
        "!ls competitions/dog-breed-identification/\n",
        "!unzip -qd competitions/dog-breed-identification/ competitions/dog-breed-identification/labels.csv.zip\n",
        "!unzip -qd competitions/dog-breed-identification/ competitions/dog-breed-identification/sample_submission.csv.zip\n",
        "!unzip -qd competitions/dog-breed-identification/ competitions/dog-breed-identification/test.zip\n",
        "!unzip -qd competitions/dog-breed-identification/ competitions/dog-breed-identification/train.zip\n",
        "!ls competitions/dog-breed-identification/"
      ],
      "execution_count": 4,
      "outputs": [
        {
          "output_type": "stream",
          "text": [
            "labels.csv.zip\tsample_submission.csv.zip  test.zip  train.zip\n",
            "labels.csv\tsample_submission.csv\t   test      train\n",
            "labels.csv.zip\tsample_submission.csv.zip  test.zip  train.zip\n"
          ],
          "name": "stdout"
        }
      ]
    },
    {
      "metadata": {
        "id": "Tp6Ff-pQLvzn",
        "colab_type": "code",
        "colab": {
          "base_uri": "https://localhost:8080/",
          "height": 50
        },
        "outputId": "c414e87b-b62d-4d45-adb3-6620621a9f73"
      },
      "cell_type": "code",
      "source": [
        "!ls competitions/dog-breed-identification/"
      ],
      "execution_count": 5,
      "outputs": [
        {
          "output_type": "stream",
          "text": [
            "labels.csv\tsample_submission.csv\t   test      train\r\n",
            "labels.csv.zip\tsample_submission.csv.zip  test.zip  train.zip\r\n"
          ],
          "name": "stdout"
        }
      ]
    },
    {
      "metadata": {
        "id": "m9JIsowJQVc_",
        "colab_type": "code",
        "colab": {
          "base_uri": "https://localhost:8080/",
          "height": 200
        },
        "outputId": "25db30a1-0625-476d-c545-12021f6e81a0"
      },
      "cell_type": "code",
      "source": [
        "!ls competitions/dog-breed-identification/train | head\n",
        "# ls -a competitions/dog-breed-identification/test | head"
      ],
      "execution_count": 6,
      "outputs": [
        {
          "output_type": "stream",
          "text": [
            "000bec180eb18c7604dcecc8fe0dba07.jpg\r\n",
            "001513dfcb2ffafc82cccf4d8bbaba97.jpg\r\n",
            "001cdf01b096e06d78e9e5112d419397.jpg\r\n",
            "00214f311d5d2247d5dfe4fe24b2303d.jpg\r\n",
            "0021f9ceb3235effd7fcde7f7538ed62.jpg\r\n",
            "002211c81b498ef88e1b40b9abf84e1d.jpg\r\n",
            "00290d3e1fdd27226ba27a8ce248ce85.jpg\r\n",
            "002a283a315af96eaea0e28e7163b21b.jpg\r\n",
            "003df8b8a8b05244b1d920bb6cf451f9.jpg\r\n",
            "0042188c895a2f14ef64a918ed9c7b64.jpg\r\n",
            "ls: write error: Broken pipe\r\n"
          ],
          "name": "stdout"
        }
      ]
    },
    {
      "metadata": {
        "id": "rOfmRHye3HQK",
        "colab_type": "code",
        "colab": {}
      },
      "cell_type": "code",
      "source": [
        "from fastai.imports import *\n",
        "from fastai.transforms import *\n",
        "from fastai.conv_learner import *\n",
        "from fastai.model import *\n",
        "from fastai.dataset import *\n",
        "from fastai.sgdr import *\n",
        "from fastai.plots import *\n",
        "\n",
        "from fastai.torch_imports import *"
      ],
      "execution_count": 0,
      "outputs": []
    },
    {
      "metadata": {
        "id": "0QmTjdX8OapP",
        "colab_type": "code",
        "colab": {}
      },
      "cell_type": "code",
      "source": [
        "PATH = 'competitions/dog-breed-identification/'"
      ],
      "execution_count": 0,
      "outputs": []
    },
    {
      "metadata": {
        "id": "K9daDN7XQcn8",
        "colab_type": "code",
        "colab": {
          "base_uri": "https://localhost:8080/",
          "height": 33
        },
        "outputId": "35961692-88e6-4183-b4d4-845fbbedf97a"
      },
      "cell_type": "code",
      "source": [
        "label_csv = f'{PATH}labels.csv'\n",
        "print(label_csv)"
      ],
      "execution_count": 9,
      "outputs": [
        {
          "output_type": "stream",
          "text": [
            "competitions/dog-breed-identification/labels.csv\n"
          ],
          "name": "stdout"
        }
      ]
    },
    {
      "metadata": {
        "id": "iAn2kNDWKYaF",
        "colab_type": "code",
        "colab": {
          "base_uri": "https://localhost:8080/",
          "height": 33
        },
        "outputId": "ec06adbb-c577-4e7e-c5e9-6d8a98384cb8"
      },
      "cell_type": "code",
      "source": [
        "n = len(list(open(label_csv)))-1\n",
        "val_idxs = get_cv_idxs(n)\n",
        "n, len(val_idxs)"
      ],
      "execution_count": 10,
      "outputs": [
        {
          "output_type": "execute_result",
          "data": {
            "text/plain": [
              "(10222, 2044)"
            ]
          },
          "metadata": {
            "tags": []
          },
          "execution_count": 10
        }
      ]
    },
    {
      "metadata": {
        "id": "dbqbYYGQRv9Q",
        "colab_type": "code",
        "colab": {
          "base_uri": "https://localhost:8080/",
          "height": 1937
        },
        "outputId": "d8a49177-e0bf-4ff8-d387-11efc3af02a9"
      },
      "cell_type": "code",
      "source": [
        "df = pd.read_csv(label_csv)\n",
        "# df.head()\n",
        "\n",
        "# df['breed'].value_counts()\n",
        "#OR\n",
        "df.pivot_table(index='breed', aggfunc=len).sort_values('id', ascending=False)"
      ],
      "execution_count": 11,
      "outputs": [
        {
          "output_type": "execute_result",
          "data": {
            "text/html": [
              "<div>\n",
              "<style scoped>\n",
              "    .dataframe tbody tr th:only-of-type {\n",
              "        vertical-align: middle;\n",
              "    }\n",
              "\n",
              "    .dataframe tbody tr th {\n",
              "        vertical-align: top;\n",
              "    }\n",
              "\n",
              "    .dataframe thead th {\n",
              "        text-align: right;\n",
              "    }\n",
              "</style>\n",
              "<table border=\"1\" class=\"dataframe\">\n",
              "  <thead>\n",
              "    <tr style=\"text-align: right;\">\n",
              "      <th></th>\n",
              "      <th>id</th>\n",
              "    </tr>\n",
              "    <tr>\n",
              "      <th>breed</th>\n",
              "      <th></th>\n",
              "    </tr>\n",
              "  </thead>\n",
              "  <tbody>\n",
              "    <tr>\n",
              "      <th>scottish_deerhound</th>\n",
              "      <td>126</td>\n",
              "    </tr>\n",
              "    <tr>\n",
              "      <th>maltese_dog</th>\n",
              "      <td>117</td>\n",
              "    </tr>\n",
              "    <tr>\n",
              "      <th>afghan_hound</th>\n",
              "      <td>116</td>\n",
              "    </tr>\n",
              "    <tr>\n",
              "      <th>entlebucher</th>\n",
              "      <td>115</td>\n",
              "    </tr>\n",
              "    <tr>\n",
              "      <th>bernese_mountain_dog</th>\n",
              "      <td>114</td>\n",
              "    </tr>\n",
              "    <tr>\n",
              "      <th>shih-tzu</th>\n",
              "      <td>112</td>\n",
              "    </tr>\n",
              "    <tr>\n",
              "      <th>great_pyrenees</th>\n",
              "      <td>111</td>\n",
              "    </tr>\n",
              "    <tr>\n",
              "      <th>pomeranian</th>\n",
              "      <td>111</td>\n",
              "    </tr>\n",
              "    <tr>\n",
              "      <th>basenji</th>\n",
              "      <td>110</td>\n",
              "    </tr>\n",
              "    <tr>\n",
              "      <th>samoyed</th>\n",
              "      <td>109</td>\n",
              "    </tr>\n",
              "    <tr>\n",
              "      <th>airedale</th>\n",
              "      <td>107</td>\n",
              "    </tr>\n",
              "    <tr>\n",
              "      <th>tibetan_terrier</th>\n",
              "      <td>107</td>\n",
              "    </tr>\n",
              "    <tr>\n",
              "      <th>leonberg</th>\n",
              "      <td>106</td>\n",
              "    </tr>\n",
              "    <tr>\n",
              "      <th>cairn</th>\n",
              "      <td>106</td>\n",
              "    </tr>\n",
              "    <tr>\n",
              "      <th>beagle</th>\n",
              "      <td>105</td>\n",
              "    </tr>\n",
              "    <tr>\n",
              "      <th>japanese_spaniel</th>\n",
              "      <td>105</td>\n",
              "    </tr>\n",
              "    <tr>\n",
              "      <th>australian_terrier</th>\n",
              "      <td>102</td>\n",
              "    </tr>\n",
              "    <tr>\n",
              "      <th>blenheim_spaniel</th>\n",
              "      <td>102</td>\n",
              "    </tr>\n",
              "    <tr>\n",
              "      <th>miniature_pinscher</th>\n",
              "      <td>102</td>\n",
              "    </tr>\n",
              "    <tr>\n",
              "      <th>irish_wolfhound</th>\n",
              "      <td>101</td>\n",
              "    </tr>\n",
              "    <tr>\n",
              "      <th>lakeland_terrier</th>\n",
              "      <td>99</td>\n",
              "    </tr>\n",
              "    <tr>\n",
              "      <th>saluki</th>\n",
              "      <td>99</td>\n",
              "    </tr>\n",
              "    <tr>\n",
              "      <th>papillon</th>\n",
              "      <td>96</td>\n",
              "    </tr>\n",
              "    <tr>\n",
              "      <th>whippet</th>\n",
              "      <td>95</td>\n",
              "    </tr>\n",
              "    <tr>\n",
              "      <th>siberian_husky</th>\n",
              "      <td>95</td>\n",
              "    </tr>\n",
              "    <tr>\n",
              "      <th>norwegian_elkhound</th>\n",
              "      <td>95</td>\n",
              "    </tr>\n",
              "    <tr>\n",
              "      <th>pug</th>\n",
              "      <td>94</td>\n",
              "    </tr>\n",
              "    <tr>\n",
              "      <th>chow</th>\n",
              "      <td>93</td>\n",
              "    </tr>\n",
              "    <tr>\n",
              "      <th>italian_greyhound</th>\n",
              "      <td>92</td>\n",
              "    </tr>\n",
              "    <tr>\n",
              "      <th>pembroke</th>\n",
              "      <td>92</td>\n",
              "    </tr>\n",
              "    <tr>\n",
              "      <th>...</th>\n",
              "      <td>...</td>\n",
              "    </tr>\n",
              "    <tr>\n",
              "      <th>german_short-haired_pointer</th>\n",
              "      <td>75</td>\n",
              "    </tr>\n",
              "    <tr>\n",
              "      <th>boxer</th>\n",
              "      <td>75</td>\n",
              "    </tr>\n",
              "    <tr>\n",
              "      <th>bull_mastiff</th>\n",
              "      <td>75</td>\n",
              "    </tr>\n",
              "    <tr>\n",
              "      <th>borzoi</th>\n",
              "      <td>75</td>\n",
              "    </tr>\n",
              "    <tr>\n",
              "      <th>pekinese</th>\n",
              "      <td>75</td>\n",
              "    </tr>\n",
              "    <tr>\n",
              "      <th>cocker_spaniel</th>\n",
              "      <td>74</td>\n",
              "    </tr>\n",
              "    <tr>\n",
              "      <th>american_staffordshire_terrier</th>\n",
              "      <td>74</td>\n",
              "    </tr>\n",
              "    <tr>\n",
              "      <th>doberman</th>\n",
              "      <td>74</td>\n",
              "    </tr>\n",
              "    <tr>\n",
              "      <th>brittany_spaniel</th>\n",
              "      <td>73</td>\n",
              "    </tr>\n",
              "    <tr>\n",
              "      <th>malinois</th>\n",
              "      <td>73</td>\n",
              "    </tr>\n",
              "    <tr>\n",
              "      <th>standard_schnauzer</th>\n",
              "      <td>72</td>\n",
              "    </tr>\n",
              "    <tr>\n",
              "      <th>flat-coated_retriever</th>\n",
              "      <td>72</td>\n",
              "    </tr>\n",
              "    <tr>\n",
              "      <th>redbone</th>\n",
              "      <td>72</td>\n",
              "    </tr>\n",
              "    <tr>\n",
              "      <th>border_collie</th>\n",
              "      <td>72</td>\n",
              "    </tr>\n",
              "    <tr>\n",
              "      <th>curly-coated_retriever</th>\n",
              "      <td>72</td>\n",
              "    </tr>\n",
              "    <tr>\n",
              "      <th>kuvasz</th>\n",
              "      <td>71</td>\n",
              "    </tr>\n",
              "    <tr>\n",
              "      <th>chihuahua</th>\n",
              "      <td>71</td>\n",
              "    </tr>\n",
              "    <tr>\n",
              "      <th>soft-coated_wheaten_terrier</th>\n",
              "      <td>71</td>\n",
              "    </tr>\n",
              "    <tr>\n",
              "      <th>french_bulldog</th>\n",
              "      <td>70</td>\n",
              "    </tr>\n",
              "    <tr>\n",
              "      <th>vizsla</th>\n",
              "      <td>70</td>\n",
              "    </tr>\n",
              "    <tr>\n",
              "      <th>tibetan_mastiff</th>\n",
              "      <td>69</td>\n",
              "    </tr>\n",
              "    <tr>\n",
              "      <th>german_shepherd</th>\n",
              "      <td>69</td>\n",
              "    </tr>\n",
              "    <tr>\n",
              "      <th>giant_schnauzer</th>\n",
              "      <td>69</td>\n",
              "    </tr>\n",
              "    <tr>\n",
              "      <th>walker_hound</th>\n",
              "      <td>69</td>\n",
              "    </tr>\n",
              "    <tr>\n",
              "      <th>otterhound</th>\n",
              "      <td>69</td>\n",
              "    </tr>\n",
              "    <tr>\n",
              "      <th>golden_retriever</th>\n",
              "      <td>67</td>\n",
              "    </tr>\n",
              "    <tr>\n",
              "      <th>brabancon_griffon</th>\n",
              "      <td>67</td>\n",
              "    </tr>\n",
              "    <tr>\n",
              "      <th>komondor</th>\n",
              "      <td>67</td>\n",
              "    </tr>\n",
              "    <tr>\n",
              "      <th>briard</th>\n",
              "      <td>66</td>\n",
              "    </tr>\n",
              "    <tr>\n",
              "      <th>eskimo_dog</th>\n",
              "      <td>66</td>\n",
              "    </tr>\n",
              "  </tbody>\n",
              "</table>\n",
              "<p>120 rows × 1 columns</p>\n",
              "</div>"
            ],
            "text/plain": [
              "                                 id\n",
              "breed                              \n",
              "scottish_deerhound              126\n",
              "maltese_dog                     117\n",
              "afghan_hound                    116\n",
              "entlebucher                     115\n",
              "bernese_mountain_dog            114\n",
              "shih-tzu                        112\n",
              "great_pyrenees                  111\n",
              "pomeranian                      111\n",
              "basenji                         110\n",
              "samoyed                         109\n",
              "airedale                        107\n",
              "tibetan_terrier                 107\n",
              "leonberg                        106\n",
              "cairn                           106\n",
              "beagle                          105\n",
              "japanese_spaniel                105\n",
              "australian_terrier              102\n",
              "blenheim_spaniel                102\n",
              "miniature_pinscher              102\n",
              "irish_wolfhound                 101\n",
              "lakeland_terrier                 99\n",
              "saluki                           99\n",
              "papillon                         96\n",
              "whippet                          95\n",
              "siberian_husky                   95\n",
              "norwegian_elkhound               95\n",
              "pug                              94\n",
              "chow                             93\n",
              "italian_greyhound                92\n",
              "pembroke                         92\n",
              "...                             ...\n",
              "german_short-haired_pointer      75\n",
              "boxer                            75\n",
              "bull_mastiff                     75\n",
              "borzoi                           75\n",
              "pekinese                         75\n",
              "cocker_spaniel                   74\n",
              "american_staffordshire_terrier   74\n",
              "doberman                         74\n",
              "brittany_spaniel                 73\n",
              "malinois                         73\n",
              "standard_schnauzer               72\n",
              "flat-coated_retriever            72\n",
              "redbone                          72\n",
              "border_collie                    72\n",
              "curly-coated_retriever           72\n",
              "kuvasz                           71\n",
              "chihuahua                        71\n",
              "soft-coated_wheaten_terrier      71\n",
              "french_bulldog                   70\n",
              "vizsla                           70\n",
              "tibetan_mastiff                  69\n",
              "german_shepherd                  69\n",
              "giant_schnauzer                  69\n",
              "walker_hound                     69\n",
              "otterhound                       69\n",
              "golden_retriever                 67\n",
              "brabancon_griffon                67\n",
              "komondor                         67\n",
              "briard                           66\n",
              "eskimo_dog                       66\n",
              "\n",
              "[120 rows x 1 columns]"
            ]
          },
          "metadata": {
            "tags": []
          },
          "execution_count": 11
        }
      ]
    },
    {
      "metadata": {
        "id": "1D6S4lPoQPbH",
        "colab_type": "text"
      },
      "cell_type": "markdown",
      "source": [
        "## Playing with Data"
      ]
    },
    {
      "metadata": {
        "id": "boyKuwOFJd7q",
        "colab_type": "code",
        "colab": {
          "base_uri": "https://localhost:8080/",
          "height": 83
        },
        "outputId": "7c71f12a-5c81-4e33-fe54-78f1ae07b4db"
      },
      "cell_type": "code",
      "source": [
        "print(data.trn_ds.fnames)\n",
        "print(data.trn_ds.fnames[0])\n",
        "%matplotlib inline"
      ],
      "execution_count": 14,
      "outputs": [
        {
          "output_type": "stream",
          "text": [
            "['train/001513dfcb2ffafc82cccf4d8bbaba97.jpg' 'train/001cdf01b096e06d78e9e5112d419397.jpg'\n",
            " 'train/0021f9ceb3235effd7fcde7f7538ed62.jpg' ... 'train/ffd3f636f7f379c51ba3648a9ff8254f.jpg'\n",
            " 'train/ffe2ca6c940cddfee68fa3cc6c63213f.jpg' 'train/ffe5f6d8e2bff356e9482a80a6e29aac.jpg']\n",
            "train/001513dfcb2ffafc82cccf4d8bbaba97.jpg\n"
          ],
          "name": "stdout"
        }
      ]
    },
    {
      "metadata": {
        "id": "ca0tkgsWKhc1",
        "colab_type": "code",
        "colab": {}
      },
      "cell_type": "code",
      "source": [
        "print(data.test_ds.fnames)\n",
        "print(data.test_ds.fnames[0])\n",
        "%matplotlib inline"
      ],
      "execution_count": 0,
      "outputs": []
    },
    {
      "metadata": {
        "id": "XmL-RHxLO0ze",
        "colab_type": "code",
        "colab": {}
      },
      "cell_type": "code",
      "source": [
        "!pip install Pillow==4.0.0\n",
        "!pip install PIL\n",
        "!pip install image"
      ],
      "execution_count": 0,
      "outputs": []
    },
    {
      "metadata": {
        "id": "xmM5o4LhJeEE",
        "colab_type": "code",
        "colab": {
          "base_uri": "https://localhost:8080/"
        },
        "outputId": "a3215c04-65aa-4f1a-ca28-c708cd33a478"
      },
      "cell_type": "code",
      "source": [
        "fn = PATH+data.trn_ds.fnames[0]; fn;\n",
        "img = PIL.Image.open(fn); img"
      ],
      "execution_count": 51,
      "outputs": [
        {
          "output_type": "error",
          "ename": "FileNotFoundError",
          "evalue": "ignored",
          "traceback": [
            "\u001b[0;31m---------------------------------------------------------------------------\u001b[0m",
            "\u001b[0;31mFileNotFoundError\u001b[0m                         Traceback (most recent call last)",
            "\u001b[0;32m<ipython-input-51-4e5f146843a5>\u001b[0m in \u001b[0;36m<module>\u001b[0;34m()\u001b[0m\n\u001b[1;32m      1\u001b[0m \u001b[0mfn\u001b[0m \u001b[0;34m=\u001b[0m \u001b[0mPATH\u001b[0m\u001b[0;34m+\u001b[0m\u001b[0mdata\u001b[0m\u001b[0;34m.\u001b[0m\u001b[0mtrn_ds\u001b[0m\u001b[0;34m.\u001b[0m\u001b[0mfnames\u001b[0m\u001b[0;34m[\u001b[0m\u001b[0;36m0\u001b[0m\u001b[0;34m]\u001b[0m\u001b[0;34m;\u001b[0m \u001b[0mfn\u001b[0m\u001b[0;34m;\u001b[0m\u001b[0;34m\u001b[0m\u001b[0m\n\u001b[0;32m----> 2\u001b[0;31m \u001b[0mimg\u001b[0m \u001b[0;34m=\u001b[0m \u001b[0mPIL\u001b[0m\u001b[0;34m.\u001b[0m\u001b[0mImage\u001b[0m\u001b[0;34m.\u001b[0m\u001b[0mopen\u001b[0m\u001b[0;34m(\u001b[0m\u001b[0mfn\u001b[0m\u001b[0;34m)\u001b[0m\u001b[0;34m;\u001b[0m \u001b[0mimg\u001b[0m\u001b[0;34m\u001b[0m\u001b[0m\n\u001b[0m",
            "\u001b[0;32m/usr/local/lib/python3.6/dist-packages/PIL/Image.py\u001b[0m in \u001b[0;36mopen\u001b[0;34m(fp, mode)\u001b[0m\n\u001b[1;32m   2578\u001b[0m \u001b[0;34m\u001b[0m\u001b[0m\n\u001b[1;32m   2579\u001b[0m     \u001b[0;32mif\u001b[0m \u001b[0mfilename\u001b[0m\u001b[0;34m:\u001b[0m\u001b[0;34m\u001b[0m\u001b[0m\n\u001b[0;32m-> 2580\u001b[0;31m         \u001b[0mfp\u001b[0m \u001b[0;34m=\u001b[0m \u001b[0mbuiltins\u001b[0m\u001b[0;34m.\u001b[0m\u001b[0mopen\u001b[0m\u001b[0;34m(\u001b[0m\u001b[0mfilename\u001b[0m\u001b[0;34m,\u001b[0m \u001b[0;34m\"rb\"\u001b[0m\u001b[0;34m)\u001b[0m\u001b[0;34m\u001b[0m\u001b[0m\n\u001b[0m\u001b[1;32m   2581\u001b[0m         \u001b[0mexclusive_fp\u001b[0m \u001b[0;34m=\u001b[0m \u001b[0;32mTrue\u001b[0m\u001b[0;34m\u001b[0m\u001b[0m\n\u001b[1;32m   2582\u001b[0m \u001b[0;34m\u001b[0m\u001b[0m\n",
            "\u001b[0;31mFileNotFoundError\u001b[0m: [Errno 2] No such file or directory: '.train/1.png'"
          ]
        }
      ]
    },
    {
      "metadata": {
        "id": "_l-jZ8hJJeHP",
        "colab_type": "code",
        "colab": {}
      },
      "cell_type": "code",
      "source": [
        "!head competitions/dog-breed-identification/sample_submission.csv"
      ],
      "execution_count": 0,
      "outputs": []
    },
    {
      "metadata": {
        "id": "mBRfz_IWJd62",
        "colab_type": "code",
        "colab": {
          "base_uri": "https://localhost:8080/",
          "height": 100
        },
        "outputId": "0eb2ec63-536d-4323-baf8-898af2ae1740"
      },
      "cell_type": "code",
      "source": [
        "data.classes[:5]"
      ],
      "execution_count": 15,
      "outputs": [
        {
          "output_type": "execute_result",
          "data": {
            "text/plain": [
              "['affenpinscher',\n",
              " 'afghan_hound',\n",
              " 'african_hunting_dog',\n",
              " 'airedale',\n",
              " 'american_staffordshire_terrier']"
            ]
          },
          "metadata": {
            "tags": []
          },
          "execution_count": 15
        }
      ]
    },
    {
      "metadata": {
        "id": "NzHlu8onJd5_",
        "colab_type": "code",
        "colab": {
          "base_uri": "https://localhost:8080/",
          "height": 100
        },
        "outputId": "f870c433-2b8a-4c45-89e5-d180d19e4abb"
      },
      "cell_type": "code",
      "source": [
        "data.test_ds.fnames[:5]"
      ],
      "execution_count": 16,
      "outputs": [
        {
          "output_type": "execute_result",
          "data": {
            "text/plain": [
              "['test/1db8160c22fc17c03f325c9149e83bcb.jpg',\n",
              " 'test/df69bb4b3dbdc81541e2bd70a5f35cb1.jpg',\n",
              " 'test/01641548f4a2988ee7a2ec783d177a98.jpg',\n",
              " 'test/1475328e0e3f2ef000606db1df2dfb3e.jpg',\n",
              " 'test/75c3350964fb0d32484b77bd51d50a11.jpg']"
            ]
          },
          "metadata": {
            "tags": []
          },
          "execution_count": 16
        }
      ]
    },
    {
      "metadata": {
        "id": "yhckZ1R6Rp-S",
        "colab_type": "text"
      },
      "cell_type": "markdown",
      "source": [
        "## Training"
      ]
    },
    {
      "metadata": {
        "id": "45pbgyE9SyqZ",
        "colab_type": "code",
        "colab": {}
      },
      "cell_type": "code",
      "source": [
        "sz = 224\n",
        "arch = resnet50\n",
        "bs = 58"
      ],
      "execution_count": 0,
      "outputs": []
    },
    {
      "metadata": {
        "id": "u0xtziQZSlSk",
        "colab_type": "code",
        "colab": {}
      },
      "cell_type": "code",
      "source": [
        "tfms = tfms_from_model(arch, sz, aug_tfms=transforms_side_on, max_zoom=1.1)\n",
        "data = ImageClassifierData.from_csv(PATH, 'train', f'{PATH}labels.csv', test_name='test', val_idxs=val_idxs, suffix='.jpg', tfms=tfms, bs=bs)"
      ],
      "execution_count": 0,
      "outputs": []
    },
    {
      "metadata": {
        "id": "yekBwvIdRrUs",
        "colab_type": "code",
        "colab": {}
      },
      "cell_type": "code",
      "source": [
        "learn = ConvLearner.pretrained(arch, data, precompute=True, ps=0.5)"
      ],
      "execution_count": 0,
      "outputs": []
    },
    {
      "metadata": {
        "id": "C3pJSZxaSb2m",
        "colab_type": "code",
        "colab": {
          "base_uri": "https://localhost:8080/",
          "height": 233
        },
        "outputId": "7cfc660f-c048-47e2-dbf5-ba5710281510"
      },
      "cell_type": "code",
      "source": [
        "learn.fit(1e-2, 10)"
      ],
      "execution_count": 33,
      "outputs": [
        {
          "output_type": "display_data",
          "data": {
            "application/vnd.jupyter.widget-view+json": {
              "model_id": "590589f6acb045bea93ec54e93c3cfa9",
              "version_minor": 0,
              "version_major": 2
            },
            "text/plain": [
              "HBox(children=(IntProgress(value=0, description='Epoch', max=10), HTML(value='')))"
            ]
          },
          "metadata": {
            "tags": []
          }
        },
        {
          "output_type": "stream",
          "text": [
            "epoch      trn_loss   val_loss   accuracy   \n",
            "    0      1.382648   0.618394   0.855675  \n",
            "    1      0.744901   0.492317   0.856654  \n",
            "    2      0.555681   0.449734   0.863014  \n",
            " 79%|███████▉  | 112/141 [00:03<00:00, 35.80it/s, loss=0.477]"
          ],
          "name": "stdout"
        },
        {
          "output_type": "stream",
          "text": [
            "    3      0.465827   0.434174   0.861057  \n",
            "    4      0.404168   0.425699   0.870352  \n",
            "    5      0.356935   0.423824   0.862035  \n",
            "    6      0.349363   0.415265   0.868395  \n",
            " 57%|█████▋    | 81/141 [00:02<00:01, 38.49it/s, loss=0.306]"
          ],
          "name": "stdout"
        },
        {
          "output_type": "stream",
          "text": [
            "    7      0.304865   0.416471   0.865949  \n",
            "    8      0.264801   0.424048   0.866438  \n",
            "    9      0.242163   0.421138   0.869863  \n"
          ],
          "name": "stdout"
        },
        {
          "output_type": "execute_result",
          "data": {
            "text/plain": [
              "[array([0.42114]), 0.8698630171979244]"
            ]
          },
          "metadata": {
            "tags": []
          },
          "execution_count": 33
        }
      ]
    },
    {
      "metadata": {
        "id": "_cltA2x0MGUw",
        "colab_type": "code",
        "colab": {
          "base_uri": "https://localhost:8080/",
          "height": 50
        },
        "outputId": "ad90a34c-8667-47a8-a15c-1bad7072477b"
      },
      "cell_type": "code",
      "source": [
        "lrf = learn.lr_find()\n",
        "print(lrf)"
      ],
      "execution_count": 38,
      "outputs": [
        {
          "output_type": "display_data",
          "data": {
            "application/vnd.jupyter.widget-view+json": {
              "model_id": "958691634fc84c9995286dbb90a8c478",
              "version_minor": 0,
              "version_major": 2
            },
            "text/plain": [
              "HBox(children=(IntProgress(value=0, description='Epoch', max=1), HTML(value='')))"
            ]
          },
          "metadata": {
            "tags": []
          }
        },
        {
          "output_type": "stream",
          "text": [
            " 84%|████████▎ | 118/141 [01:24<00:16,  1.40it/s, loss=1.01] None\n"
          ],
          "name": "stdout"
        }
      ]
    },
    {
      "metadata": {
        "id": "Wzkisx3PMLP3",
        "colab_type": "code",
        "colab": {}
      },
      "cell_type": "code",
      "source": [
        "learn.sched.plot_lr()"
      ],
      "execution_count": 0,
      "outputs": []
    },
    {
      "metadata": {
        "id": "QmakG6TK0FPB",
        "colab_type": "code",
        "colab": {}
      },
      "cell_type": "code",
      "source": [
        "learn.precompute=False"
      ],
      "execution_count": 0,
      "outputs": []
    },
    {
      "metadata": {
        "id": "3Q3BT084K3l1",
        "colab_type": "code",
        "colab": {
          "base_uri": "https://localhost:8080/",
          "height": 200
        },
        "outputId": "dbea8c6c-f4df-40c9-f0e6-585245a2e463"
      },
      "cell_type": "code",
      "source": [
        "learn.fit(1e-2, 4, cycle_len=2)"
      ],
      "execution_count": 41,
      "outputs": [
        {
          "output_type": "display_data",
          "data": {
            "application/vnd.jupyter.widget-view+json": {
              "model_id": "4127f5fe7a424f12a5190747514c7a0e",
              "version_minor": 0,
              "version_major": 2
            },
            "text/plain": [
              "HBox(children=(IntProgress(value=0, description='Epoch', max=8), HTML(value='')))"
            ]
          },
          "metadata": {
            "tags": []
          }
        },
        {
          "output_type": "stream",
          "text": [
            "epoch      trn_loss   val_loss   accuracy   \n",
            "    0      0.317101   0.423951   0.870841  \n",
            "    1      0.298098   0.418089   0.873288  \n",
            " 74%|███████▍  | 104/141 [01:15<00:26,  1.38it/s, loss=0.298]"
          ],
          "name": "stdout"
        },
        {
          "output_type": "stream",
          "text": [
            "    2      0.297089   0.426645   0.872309  \n",
            "    3      0.269274   0.422904   0.87182   \n",
            "    4      0.279669   0.427717   0.870841  \n",
            " 43%|████▎     | 61/141 [00:43<00:57,  1.39it/s, loss=0.28]"
          ],
          "name": "stdout"
        },
        {
          "output_type": "stream",
          "text": [
            "    5      0.278693   0.418601   0.870352  \n",
            "    6      0.28302    0.42407    0.874266  \n",
            "    7      0.266462   0.422251   0.872798  \n"
          ],
          "name": "stdout"
        },
        {
          "output_type": "execute_result",
          "data": {
            "text/plain": [
              "[array([0.42225]), 0.8727984381748506]"
            ]
          },
          "metadata": {
            "tags": []
          },
          "execution_count": 41
        }
      ]
    },
    {
      "metadata": {
        "id": "ecVw1w8muQjo",
        "colab_type": "code",
        "colab": {}
      },
      "cell_type": "code",
      "source": [
        "learn.save('resnet50_224_58_1')\n",
        "# learn.load('resnet50_224_58_1')\n",
        "# del learn\n",
        "\n",
        "# learn.save('resnext_299_32_1')\n",
        "# learn.load('resnext_299_32_1')\n",
        "# del learn"
      ],
      "execution_count": 0,
      "outputs": []
    },
    {
      "metadata": {
        "id": "QOKWNuxSBEPR",
        "colab_type": "code",
        "colab": {}
      },
      "cell_type": "code",
      "source": [
        "learn.unfreeze()\n",
        "lr = np.array([1e-5, 1e-4, 1e-2])"
      ],
      "execution_count": 0,
      "outputs": []
    },
    {
      "metadata": {
        "id": "rBuuoNcCLM0r",
        "colab_type": "code",
        "colab": {
          "base_uri": "https://localhost:8080/",
          "height": 117
        },
        "outputId": "1a46c6cd-3e48-4b82-b3ad-1a59b23351ad"
      },
      "cell_type": "code",
      "source": [
        "# learn.fit(lr, 1, cycle_len=2)\n",
        "learn.fit(lr, 2, cycle_len=1, cycle_mult=2)"
      ],
      "execution_count": 45,
      "outputs": [
        {
          "output_type": "display_data",
          "data": {
            "application/vnd.jupyter.widget-view+json": {
              "model_id": "80c1e42d78e549f9aeec1dd23799b346",
              "version_minor": 0,
              "version_major": 2
            },
            "text/plain": [
              "HBox(children=(IntProgress(value=0, description='Epoch', max=3), HTML(value='')))"
            ]
          },
          "metadata": {
            "tags": []
          }
        },
        {
          "output_type": "stream",
          "text": [
            "epoch      trn_loss   val_loss   accuracy   \n",
            "    0      0.393686   0.469867   0.8591    \n",
            "    1      0.373196   0.473342   0.861546  \n",
            " 74%|███████▍  | 104/141 [02:41<00:57,  1.56s/it, loss=0.346]"
          ],
          "name": "stdout"
        },
        {
          "output_type": "stream",
          "text": [
            "    2      0.325675   0.459849   0.864481  \n"
          ],
          "name": "stdout"
        },
        {
          "output_type": "execute_result",
          "data": {
            "text/plain": [
              "[array([0.45985]), 0.8644814125012512]"
            ]
          },
          "metadata": {
            "tags": []
          },
          "execution_count": 45
        }
      ]
    },
    {
      "metadata": {
        "id": "WeapfCUUUv0a",
        "colab_type": "text"
      },
      "cell_type": "markdown",
      "source": [
        "## Prediction and Submission"
      ]
    },
    {
      "metadata": {
        "id": "TaOkR-z5JmqX",
        "colab_type": "code",
        "colab": {}
      },
      "cell_type": "code",
      "source": [
        "log_preds,y = learn.TTA(is_test=True)\n",
        "probs = np.mean(np.exp(log_preds), 0)"
      ],
      "execution_count": 0,
      "outputs": []
    },
    {
      "metadata": {
        "id": "t6EYjW3NTZdz",
        "colab_type": "code",
        "colab": {
          "base_uri": "https://localhost:8080/",
          "height": 50
        },
        "outputId": "188f7402-8434-4937-b134-349df9e1f2bd"
      },
      "cell_type": "code",
      "source": [
        "print(log_preds.shape)\n",
        "print(probs.shape)"
      ],
      "execution_count": 48,
      "outputs": [
        {
          "output_type": "stream",
          "text": [
            "(5, 10357, 120)\n",
            "(10357, 120)\n"
          ],
          "name": "stdout"
        }
      ]
    },
    {
      "metadata": {
        "id": "ady6ZIyaJ4Ni",
        "colab_type": "code",
        "colab": {
          "base_uri": "https://localhost:8080/",
          "height": 67
        },
        "outputId": "6b7be9e7-77a7-473d-d673-f3088ec28424"
      },
      "cell_type": "code",
      "source": [
        "print(log_preds[4].shape)\n",
        "print(probs[0].shape)\n",
        "y.shape\n",
        "# metrics.log_loss(y, np.exp(log_preds[0])), accuracy(log_preds[0],y)"
      ],
      "execution_count": 49,
      "outputs": [
        {
          "output_type": "stream",
          "text": [
            "(10357, 120)\n",
            "(120,)\n"
          ],
          "name": "stdout"
        },
        {
          "output_type": "execute_result",
          "data": {
            "text/plain": [
              "(10357, 1)"
            ]
          },
          "metadata": {
            "tags": []
          },
          "execution_count": 49
        }
      ]
    },
    {
      "metadata": {
        "id": "aakKfSd2VuFv",
        "colab_type": "code",
        "colab": {}
      },
      "cell_type": "code",
      "source": [
        "df = pd.DataFrame(probs)\n",
        "df.columns = data.classes"
      ],
      "execution_count": 0,
      "outputs": []
    },
    {
      "metadata": {
        "id": "we9ZbsJcWNkL",
        "colab_type": "code",
        "colab": {
          "base_uri": "https://localhost:8080/",
          "height": 347
        },
        "outputId": "bc9027bf-824e-42ce-9605-285662c43686"
      },
      "cell_type": "code",
      "source": [
        "df.insert(0, 'id', [x[5:-4] for x in data.test_ds.fnames])\n",
        "df.head()"
      ],
      "execution_count": 52,
      "outputs": [
        {
          "output_type": "execute_result",
          "data": {
            "text/html": [
              "<div>\n",
              "<style scoped>\n",
              "    .dataframe tbody tr th:only-of-type {\n",
              "        vertical-align: middle;\n",
              "    }\n",
              "\n",
              "    .dataframe tbody tr th {\n",
              "        vertical-align: top;\n",
              "    }\n",
              "\n",
              "    .dataframe thead th {\n",
              "        text-align: right;\n",
              "    }\n",
              "</style>\n",
              "<table border=\"1\" class=\"dataframe\">\n",
              "  <thead>\n",
              "    <tr style=\"text-align: right;\">\n",
              "      <th></th>\n",
              "      <th>id</th>\n",
              "      <th>affenpinscher</th>\n",
              "      <th>afghan_hound</th>\n",
              "      <th>african_hunting_dog</th>\n",
              "      <th>airedale</th>\n",
              "      <th>american_staffordshire_terrier</th>\n",
              "      <th>appenzeller</th>\n",
              "      <th>australian_terrier</th>\n",
              "      <th>basenji</th>\n",
              "      <th>basset</th>\n",
              "      <th>...</th>\n",
              "      <th>toy_poodle</th>\n",
              "      <th>toy_terrier</th>\n",
              "      <th>vizsla</th>\n",
              "      <th>walker_hound</th>\n",
              "      <th>weimaraner</th>\n",
              "      <th>welsh_springer_spaniel</th>\n",
              "      <th>west_highland_white_terrier</th>\n",
              "      <th>whippet</th>\n",
              "      <th>wire-haired_fox_terrier</th>\n",
              "      <th>yorkshire_terrier</th>\n",
              "    </tr>\n",
              "  </thead>\n",
              "  <tbody>\n",
              "    <tr>\n",
              "      <th>0</th>\n",
              "      <td>1db8160c22fc17c03f325c9149e83bcb</td>\n",
              "      <td>2.709162e-09</td>\n",
              "      <td>1.255200e-07</td>\n",
              "      <td>1.483115e-05</td>\n",
              "      <td>1.621165e-07</td>\n",
              "      <td>2.272060e-07</td>\n",
              "      <td>1.393274e-06</td>\n",
              "      <td>3.068655e-07</td>\n",
              "      <td>6.997662e-06</td>\n",
              "      <td>2.102595e-07</td>\n",
              "      <td>...</td>\n",
              "      <td>6.792127e-08</td>\n",
              "      <td>2.584122e-07</td>\n",
              "      <td>1.439322e-07</td>\n",
              "      <td>2.093129e-07</td>\n",
              "      <td>1.132864e-08</td>\n",
              "      <td>8.091107e-08</td>\n",
              "      <td>1.124147e-07</td>\n",
              "      <td>5.839237e-07</td>\n",
              "      <td>1.235311e-07</td>\n",
              "      <td>9.364824e-09</td>\n",
              "    </tr>\n",
              "    <tr>\n",
              "      <th>1</th>\n",
              "      <td>df69bb4b3dbdc81541e2bd70a5f35cb1</td>\n",
              "      <td>4.535818e-07</td>\n",
              "      <td>1.146515e-07</td>\n",
              "      <td>4.914520e-07</td>\n",
              "      <td>1.912670e-07</td>\n",
              "      <td>7.365703e-06</td>\n",
              "      <td>1.693493e-01</td>\n",
              "      <td>3.009845e-07</td>\n",
              "      <td>3.603940e-05</td>\n",
              "      <td>2.458305e-06</td>\n",
              "      <td>...</td>\n",
              "      <td>3.229193e-07</td>\n",
              "      <td>1.439518e-06</td>\n",
              "      <td>2.545661e-07</td>\n",
              "      <td>1.029795e-05</td>\n",
              "      <td>1.271566e-07</td>\n",
              "      <td>2.698508e-06</td>\n",
              "      <td>6.755387e-07</td>\n",
              "      <td>2.969158e-06</td>\n",
              "      <td>7.705876e-07</td>\n",
              "      <td>8.670723e-08</td>\n",
              "    </tr>\n",
              "    <tr>\n",
              "      <th>2</th>\n",
              "      <td>01641548f4a2988ee7a2ec783d177a98</td>\n",
              "      <td>7.068264e-08</td>\n",
              "      <td>1.347548e-10</td>\n",
              "      <td>1.634074e-08</td>\n",
              "      <td>1.032498e-09</td>\n",
              "      <td>1.938713e-08</td>\n",
              "      <td>2.064610e-09</td>\n",
              "      <td>1.156590e-07</td>\n",
              "      <td>2.502843e-07</td>\n",
              "      <td>2.430335e-09</td>\n",
              "      <td>...</td>\n",
              "      <td>1.223604e-06</td>\n",
              "      <td>3.602689e-04</td>\n",
              "      <td>1.057317e-08</td>\n",
              "      <td>7.017433e-10</td>\n",
              "      <td>5.427978e-09</td>\n",
              "      <td>1.537882e-09</td>\n",
              "      <td>2.071827e-07</td>\n",
              "      <td>4.258277e-09</td>\n",
              "      <td>2.977257e-09</td>\n",
              "      <td>3.749694e-08</td>\n",
              "    </tr>\n",
              "    <tr>\n",
              "      <th>3</th>\n",
              "      <td>1475328e0e3f2ef000606db1df2dfb3e</td>\n",
              "      <td>3.454863e-05</td>\n",
              "      <td>5.455097e-05</td>\n",
              "      <td>4.906702e-04</td>\n",
              "      <td>6.415244e-02</td>\n",
              "      <td>5.292915e-04</td>\n",
              "      <td>1.950545e-04</td>\n",
              "      <td>5.841668e-03</td>\n",
              "      <td>3.787102e-05</td>\n",
              "      <td>3.742217e-04</td>\n",
              "      <td>...</td>\n",
              "      <td>6.592974e-06</td>\n",
              "      <td>9.685897e-04</td>\n",
              "      <td>4.474749e-04</td>\n",
              "      <td>7.674181e-04</td>\n",
              "      <td>1.723942e-03</td>\n",
              "      <td>1.694230e-03</td>\n",
              "      <td>1.911309e-05</td>\n",
              "      <td>9.894846e-05</td>\n",
              "      <td>4.466184e-04</td>\n",
              "      <td>1.461369e-03</td>\n",
              "    </tr>\n",
              "    <tr>\n",
              "      <th>4</th>\n",
              "      <td>75c3350964fb0d32484b77bd51d50a11</td>\n",
              "      <td>6.987867e-06</td>\n",
              "      <td>2.657042e-05</td>\n",
              "      <td>1.029234e-06</td>\n",
              "      <td>1.061323e-05</td>\n",
              "      <td>7.757877e-03</td>\n",
              "      <td>7.159046e-06</td>\n",
              "      <td>2.228980e-04</td>\n",
              "      <td>1.026636e-02</td>\n",
              "      <td>2.468857e-05</td>\n",
              "      <td>...</td>\n",
              "      <td>7.015002e-06</td>\n",
              "      <td>4.304138e-01</td>\n",
              "      <td>1.144465e-04</td>\n",
              "      <td>4.206277e-01</td>\n",
              "      <td>4.825026e-06</td>\n",
              "      <td>1.408125e-05</td>\n",
              "      <td>3.401798e-05</td>\n",
              "      <td>3.733105e-04</td>\n",
              "      <td>4.290254e-03</td>\n",
              "      <td>7.717854e-06</td>\n",
              "    </tr>\n",
              "  </tbody>\n",
              "</table>\n",
              "<p>5 rows × 121 columns</p>\n",
              "</div>"
            ],
            "text/plain": [
              "                                 id  affenpinscher  afghan_hound  \\\n",
              "0  1db8160c22fc17c03f325c9149e83bcb   2.709162e-09  1.255200e-07   \n",
              "1  df69bb4b3dbdc81541e2bd70a5f35cb1   4.535818e-07  1.146515e-07   \n",
              "2  01641548f4a2988ee7a2ec783d177a98   7.068264e-08  1.347548e-10   \n",
              "3  1475328e0e3f2ef000606db1df2dfb3e   3.454863e-05  5.455097e-05   \n",
              "4  75c3350964fb0d32484b77bd51d50a11   6.987867e-06  2.657042e-05   \n",
              "\n",
              "   african_hunting_dog      airedale  american_staffordshire_terrier  \\\n",
              "0         1.483115e-05  1.621165e-07                    2.272060e-07   \n",
              "1         4.914520e-07  1.912670e-07                    7.365703e-06   \n",
              "2         1.634074e-08  1.032498e-09                    1.938713e-08   \n",
              "3         4.906702e-04  6.415244e-02                    5.292915e-04   \n",
              "4         1.029234e-06  1.061323e-05                    7.757877e-03   \n",
              "\n",
              "    appenzeller  australian_terrier       basenji        basset  \\\n",
              "0  1.393274e-06        3.068655e-07  6.997662e-06  2.102595e-07   \n",
              "1  1.693493e-01        3.009845e-07  3.603940e-05  2.458305e-06   \n",
              "2  2.064610e-09        1.156590e-07  2.502843e-07  2.430335e-09   \n",
              "3  1.950545e-04        5.841668e-03  3.787102e-05  3.742217e-04   \n",
              "4  7.159046e-06        2.228980e-04  1.026636e-02  2.468857e-05   \n",
              "\n",
              "         ...            toy_poodle   toy_terrier        vizsla  walker_hound  \\\n",
              "0        ...          6.792127e-08  2.584122e-07  1.439322e-07  2.093129e-07   \n",
              "1        ...          3.229193e-07  1.439518e-06  2.545661e-07  1.029795e-05   \n",
              "2        ...          1.223604e-06  3.602689e-04  1.057317e-08  7.017433e-10   \n",
              "3        ...          6.592974e-06  9.685897e-04  4.474749e-04  7.674181e-04   \n",
              "4        ...          7.015002e-06  4.304138e-01  1.144465e-04  4.206277e-01   \n",
              "\n",
              "     weimaraner  welsh_springer_spaniel  west_highland_white_terrier  \\\n",
              "0  1.132864e-08            8.091107e-08                 1.124147e-07   \n",
              "1  1.271566e-07            2.698508e-06                 6.755387e-07   \n",
              "2  5.427978e-09            1.537882e-09                 2.071827e-07   \n",
              "3  1.723942e-03            1.694230e-03                 1.911309e-05   \n",
              "4  4.825026e-06            1.408125e-05                 3.401798e-05   \n",
              "\n",
              "        whippet  wire-haired_fox_terrier  yorkshire_terrier  \n",
              "0  5.839237e-07             1.235311e-07       9.364824e-09  \n",
              "1  2.969158e-06             7.705876e-07       8.670723e-08  \n",
              "2  4.258277e-09             2.977257e-09       3.749694e-08  \n",
              "3  9.894846e-05             4.466184e-04       1.461369e-03  \n",
              "4  3.733105e-04             4.290254e-03       7.717854e-06  \n",
              "\n",
              "[5 rows x 121 columns]"
            ]
          },
          "metadata": {
            "tags": []
          },
          "execution_count": 52
        }
      ]
    },
    {
      "metadata": {
        "id": "tjHBKtCkW4Zn",
        "colab_type": "code",
        "colab": {}
      },
      "cell_type": "code",
      "source": [
        "df.to_csv('./submission.csv', index=False)"
      ],
      "execution_count": 0,
      "outputs": []
    },
    {
      "metadata": {
        "id": "Dr0ZHSkoXImN",
        "colab_type": "code",
        "colab": {}
      },
      "cell_type": "code",
      "source": [
        "!head submission.csv"
      ],
      "execution_count": 0,
      "outputs": []
    },
    {
      "metadata": {
        "id": "SEVp0DQoYLFf",
        "colab_type": "code",
        "colab": {
          "base_uri": "https://localhost:8080/",
          "height": 33
        },
        "outputId": "f90e1398-0c55-4529-baae-1e17d717bd91"
      },
      "cell_type": "code",
      "source": [
        "!kaggle competitions submit -c dog-breed-identification -f submission.csv -m \"Submission 2 to Dog Breed Identification\""
      ],
      "execution_count": 55,
      "outputs": [
        {
          "output_type": "stream",
          "text": [
            "Successfully submitted to Dog Breed Identification"
          ],
          "name": "stdout"
        }
      ]
    },
    {
      "metadata": {
        "id": "OfEVT_meTl50",
        "colab_type": "code",
        "colab": {}
      },
      "cell_type": "code",
      "source": [
        ""
      ],
      "execution_count": 0,
      "outputs": []
    },
    {
      "metadata": {
        "id": "AkSivjB3DrTF",
        "colab_type": "code",
        "colab": {}
      },
      "cell_type": "code",
      "source": [
        ""
      ],
      "execution_count": 0,
      "outputs": []
    },
    {
      "metadata": {
        "id": "kGEWUOCaDsHO",
        "colab_type": "text"
      },
      "cell_type": "markdown",
      "source": [
        "# CIFAR 10"
      ]
    },
    {
      "metadata": {
        "id": "SVFjb3NYDwS1",
        "colab_type": "code",
        "colab": {
          "base_uri": "https://localhost:8080/",
          "height": 217
        },
        "outputId": "1df96fb6-aabc-4207-bf35-07342449d23b"
      },
      "cell_type": "code",
      "source": [
        "!kaggle competitions download -c cifar-10"
      ],
      "execution_count": 10,
      "outputs": [
        {
          "output_type": "stream",
          "text": [
            "Downloading sampleSubmission.csv to /content/competitions/cifar-10\n",
            "  0% 0.00/3.04M [00:00<?, ?B/s]\n",
            "100% 3.04M/3.04M [00:00<00:00, 122MB/s]\n",
            "Downloading test.7z to /content/competitions/cifar-10\n",
            " 98% 595M/610M [00:07<00:00, 79.5MB/s]\n",
            "100% 610M/610M [00:07<00:00, 88.4MB/s]\n",
            "Downloading train.7z to /content/competitions/cifar-10\n",
            " 90% 94.0M/105M [00:01<00:00, 50.7MB/s]\n",
            "100% 105M/105M [00:01<00:00, 69.3MB/s] \n",
            "Downloading trainLabels.csv to /content/competitions/cifar-10\n",
            "  0% 0.00/575k [00:00<?, ?B/s]\n",
            "100% 575k/575k [00:00<00:00, 202MB/s]\n"
          ],
          "name": "stdout"
        }
      ]
    },
    {
      "metadata": {
        "id": "-0hGR0LiJFNY",
        "colab_type": "code",
        "colab": {}
      },
      "cell_type": "code",
      "source": [
        "!p7zip -d competitions/cifar-10/train.7z"
      ],
      "execution_count": 0,
      "outputs": []
    },
    {
      "metadata": {
        "id": "BGB-rVhGEVqU",
        "colab_type": "code",
        "colab": {}
      },
      "cell_type": "code",
      "source": [
        "!p7zip -d competitions/cifar-10/test.7z"
      ],
      "execution_count": 0,
      "outputs": []
    },
    {
      "metadata": {
        "id": "lMmJ07kwIrWQ",
        "colab_type": "code",
        "colab": {
          "base_uri": "https://localhost:8080/",
          "height": 33
        },
        "outputId": "c22b2535-7833-43c1-cbfe-6ead80ffcc69"
      },
      "cell_type": "code",
      "source": [
        "!ls competitions/cifar-10/test.7z"
      ],
      "execution_count": 30,
      "outputs": [
        {
          "output_type": "stream",
          "text": [
            "sampleSubmission.csv  test.7z  train.7z  trainLabels.csv\n"
          ],
          "name": "stdout"
        }
      ]
    },
    {
      "metadata": {
        "id": "O4c4A5buIwTM",
        "colab_type": "code",
        "colab": {
          "base_uri": "https://localhost:8080/",
          "height": 33
        },
        "outputId": "ea6edfb8-ba4e-4258-bd85-1a13cb260ce8"
      },
      "cell_type": "code",
      "source": [
        "!ls"
      ],
      "execution_count": 48,
      "outputs": [
        {
          "output_type": "stream",
          "text": [
            "competitions  models  sample_data  tmp\ttrain  trainLabels.csv\n"
          ],
          "name": "stdout"
        }
      ]
    },
    {
      "metadata": {
        "id": "yMTbY1Y7u1Mk",
        "colab_type": "text"
      },
      "cell_type": "markdown",
      "source": [
        "## Code"
      ]
    },
    {
      "metadata": {
        "id": "1mGiM4OLZDjN",
        "colab_type": "code",
        "colab": {}
      },
      "cell_type": "code",
      "source": [
        "from fastai.imports import*\n",
        "from fastai.transforms import *\n",
        "from fastai.conv_learner import *\n",
        "from fastai.model import *\n",
        "from fastai.dataset import *\n",
        "from fastai.sgdr import *\n",
        "from fastai.plots import *"
      ],
      "execution_count": 0,
      "outputs": []
    },
    {
      "metadata": {
        "id": "Kr31EPFHvKUS",
        "colab_type": "code",
        "colab": {}
      },
      "cell_type": "code",
      "source": [
        "PATH = '.'\n",
        "sz = 224\n",
        "arch = resnet50\n",
        "bs = 16\n",
        "\n",
        "label_csv = f'competitions/cifar-10/trainLabels.csv'\n",
        "n = len(list(open(label_csv))) - 1\n",
        "val_idxs = get_cv_idxs(n)"
      ],
      "execution_count": 0,
      "outputs": []
    },
    {
      "metadata": {
        "id": "Vg77OD6OwVon",
        "colab_type": "code",
        "colab": {
          "base_uri": "https://localhost:8080/",
          "height": 33
        },
        "outputId": "61e25799-65f5-4617-91b5-dcd9ea195106"
      },
      "cell_type": "code",
      "source": [
        "len(val_idxs)"
      ],
      "execution_count": 35,
      "outputs": [
        {
          "output_type": "execute_result",
          "data": {
            "text/plain": [
              "10000"
            ]
          },
          "metadata": {
            "tags": []
          },
          "execution_count": 35
        }
      ]
    },
    {
      "metadata": {
        "id": "tsImX8NwwY12",
        "colab_type": "code",
        "colab": {}
      },
      "cell_type": "code",
      "source": [
        "tfms = tfms_from_model(arch, sz, aug_tfms=transforms_side_on, max_zoom=1.1)\n",
        "data = ImageClassifierData.from_csv(PATH, 'train', label_csv, bs=bs, tfms=tfms,\n",
        "                                   val_idxs=val_idxs, suffix='.png')"
      ],
      "execution_count": 0,
      "outputs": []
    },
    {
      "metadata": {
        "id": "KncAoF0kyE5b",
        "colab_type": "code",
        "colab": {
          "base_uri": "https://localhost:8080/",
          "height": 33
        },
        "outputId": "171597d4-9cae-4cd1-a9d1-65c83f864ebd"
      },
      "cell_type": "code",
      "source": [
        "learn = ConvLearner.pretrained(arch, data, precompute=True)"
      ],
      "execution_count": 41,
      "outputs": [
        {
          "output_type": "stream",
          "text": [
            "100%|██████████| 625/625 [01:31<00:00,  7.46it/s]\n"
          ],
          "name": "stdout"
        }
      ]
    },
    {
      "metadata": {
        "id": "FTShfKSLyIus",
        "colab_type": "code",
        "colab": {
          "base_uri": "https://localhost:8080/",
          "height": 167
        },
        "outputId": "41a7fc86-346a-4387-cc35-c9ac66a8e6da"
      },
      "cell_type": "code",
      "source": [
        "learn.fit(1e-2, 5)"
      ],
      "execution_count": 42,
      "outputs": [
        {
          "output_type": "display_data",
          "data": {
            "application/vnd.jupyter.widget-view+json": {
              "model_id": "1d8752080e884712810a27bb3660c731",
              "version_minor": 0,
              "version_major": 2
            },
            "text/plain": [
              "HBox(children=(IntProgress(value=0, description='Epoch', max=5), HTML(value='')))"
            ]
          },
          "metadata": {
            "tags": []
          }
        },
        {
          "output_type": "stream",
          "text": [
            "epoch      trn_loss   val_loss   accuracy   \n",
            "    0      1.05787    0.803226   0.7179    \n",
            "    1      0.912564   0.757625   0.7379    \n",
            "    2      0.879122   0.711455   0.751     \n",
            "    3      0.865413   0.705146   0.7529    \n",
            "    4      0.802086   0.688553   0.7606    \n",
            "\n"
          ],
          "name": "stdout"
        },
        {
          "output_type": "execute_result",
          "data": {
            "text/plain": [
              "[array([0.68855]), 0.7606]"
            ]
          },
          "metadata": {
            "tags": []
          },
          "execution_count": 42
        }
      ]
    },
    {
      "metadata": {
        "id": "hVoSUCJs0aE8",
        "colab_type": "code",
        "colab": {
          "base_uri": "https://localhost:8080/",
          "height": 117
        },
        "outputId": "c8727361-6f1d-4073-8351-f04f1c10fca3"
      },
      "cell_type": "code",
      "source": [
        "learn.precompute = False\n",
        "learn.fit(1e-2, 2, cycle_len=1)"
      ],
      "execution_count": 43,
      "outputs": [
        {
          "output_type": "display_data",
          "data": {
            "application/vnd.jupyter.widget-view+json": {
              "model_id": "597095de91094eea9c0cbe085171bcd1",
              "version_minor": 0,
              "version_major": 2
            },
            "text/plain": [
              "HBox(children=(IntProgress(value=0, description='Epoch', max=2), HTML(value='')))"
            ]
          },
          "metadata": {
            "tags": []
          }
        },
        {
          "output_type": "stream",
          "text": [
            "epoch      trn_loss   val_loss   accuracy   \n",
            "    0      0.866167   0.681336   0.7601    \n",
            "    1      0.904361   0.673465   0.7656    \n",
            "\n"
          ],
          "name": "stdout"
        },
        {
          "output_type": "execute_result",
          "data": {
            "text/plain": [
              "[array([0.67347]), 0.7656]"
            ]
          },
          "metadata": {
            "tags": []
          },
          "execution_count": 43
        }
      ]
    },
    {
      "metadata": {
        "id": "ZySndSml2fH_",
        "colab_type": "code",
        "colab": {}
      },
      "cell_type": "code",
      "source": [
        ""
      ],
      "execution_count": 0,
      "outputs": []
    }
  ]
}